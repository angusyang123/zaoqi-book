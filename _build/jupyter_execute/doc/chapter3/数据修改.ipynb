{
 "cells": [
  {
   "cell_type": "markdown",
   "metadata": {},
   "source": [
    "# 数据修改"
   ]
  },
  {
   "cell_type": "markdown",
   "metadata": {},
   "source": [
    "```{admonition} 在线刷题\n",
    ":class: seealso\n",
    "\n",
    "检查 or 强化 `Pandas` 数据分析操作？<a href=\"https://www.heywhale.com/mw/project/6146c0318447b8001769ff20\" target=\"_blank\">👉在线体验「Pandas进阶修炼300题」</a>\n",
    "```"
   ]
  },
  {
   "cell_type": "markdown",
   "metadata": {},
   "source": [
    "```{note} \n",
    "本页面代码可以[在线编辑、执行](../指引/在线执行.md)！\n",
    "```"
   ]
  },
  {
   "cell_type": "code",
   "execution_count": 1,
   "metadata": {},
   "outputs": [],
   "source": [
    "import pandas as pd\n",
    "\n",
    "df = pd.read_csv(\"东京奥运会奖牌数据.csv\")"
   ]
  },
  {
   "cell_type": "markdown",
   "metadata": {},
   "source": [
    "## 数据修改\n",
    "\n"
   ]
  },
  {
   "cell_type": "markdown",
   "metadata": {},
   "source": [
    "### 修改列名\n",
    "\n",
    "\n",
    "将原 `df` 列名 `Unnamed: 2`、`Unnamed: 3`、`Unnamed: 4` 修改为 `金牌数`、`银牌数`、`铜牌数`"
   ]
  },
  {
   "cell_type": "code",
   "execution_count": 2,
   "metadata": {
    "tags": [
     "output_scroll"
    ]
   },
   "outputs": [],
   "source": [
    "df.rename(columns={'Unnamed: 2':'金牌数',\n",
    "                  'Unnamed: 3':'银牌数',\n",
    "                  'Unnamed: 4':'铜牌数'},inplace=True) "
   ]
  },
  {
   "cell_type": "markdown",
   "metadata": {},
   "source": [
    "### 修改行索引\n",
    "\n",
    "\n",
    "将第一列（排名）设置为索引"
   ]
  },
  {
   "cell_type": "code",
   "execution_count": 3,
   "metadata": {
    "tags": [
     "output_scroll"
    ]
   },
   "outputs": [],
   "source": [
    "df.set_index(\"排名\",inplace=True)"
   ]
  },
  {
   "cell_type": "markdown",
   "metadata": {},
   "source": [
    "### 修改索引名\n",
    "\n",
    "修改索引名为 金牌排名"
   ]
  },
  {
   "cell_type": "code",
   "execution_count": 4,
   "metadata": {
    "tags": [
     "output_scroll"
    ]
   },
   "outputs": [],
   "source": [
    "df.rename_axis(\"金牌排名\",inplace=True)"
   ]
  },
  {
   "cell_type": "markdown",
   "metadata": {},
   "source": [
    "### 修改值\n",
    "\n",
    "将 ROC（第一列第五行）修改为 俄奥委会"
   ]
  },
  {
   "cell_type": "code",
   "execution_count": 5,
   "metadata": {
    "tags": [
     "output_scroll"
    ]
   },
   "outputs": [],
   "source": [
    "df.iloc[4,0] = '俄奥委会'"
   ]
  },
  {
   "cell_type": "markdown",
   "metadata": {},
   "source": [
    "### 替换值（单值）\n",
    "\n",
    "将金牌数列的数字 `0` 替换为 `无`"
   ]
  },
  {
   "cell_type": "code",
   "execution_count": 6,
   "metadata": {},
   "outputs": [],
   "source": [
    "df['金牌数'].replace(0,'无',inplace=True)"
   ]
  },
  {
   "cell_type": "markdown",
   "metadata": {},
   "source": [
    "### 替换值（多值）\n",
    "\n"
   ]
  },
  {
   "cell_type": "markdown",
   "metadata": {},
   "source": [
    "同时替换\n",
    "\n",
    "- 将 `无` 替换为 缺失值\n",
    "- 将 0 替换为 `None`\n",
    "\n",
    "注意：缺失值的 Nan 该怎么生成？"
   ]
  },
  {
   "cell_type": "code",
   "execution_count": 7,
   "metadata": {},
   "outputs": [],
   "source": [
    "import numpy as np\n",
    "df.replace(['无',0],[np.nan,'None'],inplace = True)"
   ]
  },
  {
   "cell_type": "markdown",
   "metadata": {},
   "source": [
    "### 修改类型\n",
    "\n",
    "将 `金牌数` 列类型修改为 `int`"
   ]
  },
  {
   "cell_type": "code",
   "execution_count": 8,
   "metadata": {},
   "outputs": [],
   "source": [
    "df['金牌数'] = df['金牌数'].fillna('0').astype(int)"
   ]
  },
  {
   "cell_type": "markdown",
   "metadata": {},
   "source": [
    "## 数据增加"
   ]
  },
  {
   "cell_type": "markdown",
   "metadata": {},
   "source": [
    "### 新增列（固定值）\n",
    "\n",
    "**新增一列** 比赛地点，值为 `东京`\n"
   ]
  },
  {
   "cell_type": "code",
   "execution_count": 9,
   "metadata": {},
   "outputs": [],
   "source": [
    "df['比赛地点'] = '东京'"
   ]
  },
  {
   "cell_type": "markdown",
   "metadata": {},
   "source": [
    "### 新增列（计算值）\n",
    "\n",
    "\n",
    "**新增一列** 金银牌总数列，值为该国家金银牌总数"
   ]
  },
  {
   "cell_type": "code",
   "execution_count": 10,
   "metadata": {},
   "outputs": [],
   "source": [
    "df = df.replace('None',0)\n",
    "df['金银牌总数']  = df['金牌数']  + df['银牌数']"
   ]
  },
  {
   "cell_type": "markdown",
   "metadata": {},
   "source": [
    "### 新增列（比较值）\n",
    "\n",
    "新增一列 最多奖牌数量 列，值为该过金银牌数量种最多的一个奖牌数量\n",
    "\n",
    "例如美国银牌最多，则为41，中国为38"
   ]
  },
  {
   "cell_type": "code",
   "execution_count": 11,
   "metadata": {},
   "outputs": [],
   "source": [
    "df['最多奖牌数量'] = df.bfill(1)[[\"金牌数\", \"银牌数\",'铜牌数']].max(1)"
   ]
  },
  {
   "cell_type": "markdown",
   "metadata": {},
   "source": [
    "### 新增列（判断值）\n",
    "\n",
    "新增一列 金牌大于30\n",
    "\n",
    "如果一个国家的金牌数大于 30 则值为 是，反之为 否"
   ]
  },
  {
   "cell_type": "code",
   "execution_count": 12,
   "metadata": {},
   "outputs": [],
   "source": [
    "df['金牌大于30']  = np.where(df['金牌数'] > 30, '是', '否')"
   ]
  },
  {
   "cell_type": "markdown",
   "metadata": {},
   "source": [
    "### 增加多列\n",
    "\n",
    "新增两列，分别是\n",
    "\n",
    "- 金铜牌总数（金牌数+铜牌数）\n",
    "- 银铜牌总数（银牌数+铜牌数）"
   ]
  },
  {
   "cell_type": "code",
   "execution_count": 13,
   "metadata": {},
   "outputs": [],
   "source": [
    "df = df.assign(金铜牌总数=df.金牌数 + df.铜牌数,\n",
    "         银铜牌总数=df.银牌数+df.铜牌数) "
   ]
  },
  {
   "cell_type": "markdown",
   "metadata": {},
   "source": [
    "### 新增列（引用变量）\n",
    "\n",
    "新增一列金牌占比，为各国金牌数除以总金牌数（gold_sum）"
   ]
  },
  {
   "cell_type": "code",
   "execution_count": 14,
   "metadata": {},
   "outputs": [],
   "source": [
    "gold_sum = df['金牌数'].sum()\n",
    "df.eval(f'金牌占比 = 金牌数 / {gold_sum}',inplace=True)"
   ]
  },
  {
   "cell_type": "markdown",
   "metadata": {},
   "source": [
    "### 新增行（末尾追加）\n",
    "\n",
    "\n",
    "在 df 末尾追加一行，内容为 0,1,2,3... 一直到 `df` 的列长度"
   ]
  },
  {
   "cell_type": "code",
   "execution_count": 15,
   "metadata": {},
   "outputs": [],
   "source": [
    "df1 = pd.DataFrame([[i for i in range(len(df.columns))]], columns=df.columns)\n",
    "df_new = df.append(df1)"
   ]
  },
  {
   "cell_type": "markdown",
   "metadata": {},
   "source": [
    "### 新增行（指定位置）\n",
    "\n",
    "在第 2 行新增一行数据，即美国和中国之间。\n",
    "\n",
    "数据内容同上一题"
   ]
  },
  {
   "cell_type": "code",
   "execution_count": 16,
   "metadata": {},
   "outputs": [],
   "source": [
    "df1 = df.iloc[:1, :]\n",
    "df2 = df.iloc[1:, :]\n",
    "df3 = pd.DataFrame([[i for i in range(len(df.columns))]], columns=df.columns)\n",
    "df_new = pd.concat([df1, df3, df2], ignore_index=True)"
   ]
  },
  {
   "cell_type": "markdown",
   "metadata": {},
   "source": [
    "## 数据删除"
   ]
  },
  {
   "cell_type": "markdown",
   "metadata": {},
   "source": [
    "### 删除指定行\n",
    "\n",
    "删除 `df` 第一行"
   ]
  },
  {
   "cell_type": "code",
   "execution_count": 17,
   "metadata": {},
   "outputs": [
    {
     "data": {
      "text/html": [
       "<div>\n",
       "<style scoped>\n",
       "    .dataframe tbody tr th:only-of-type {\n",
       "        vertical-align: middle;\n",
       "    }\n",
       "\n",
       "    .dataframe tbody tr th {\n",
       "        vertical-align: top;\n",
       "    }\n",
       "\n",
       "    .dataframe thead th {\n",
       "        text-align: right;\n",
       "    }\n",
       "</style>\n",
       "<table border=\"1\" class=\"dataframe\">\n",
       "  <thead>\n",
       "    <tr style=\"text-align: right;\">\n",
       "      <th></th>\n",
       "      <th>国家奥委会</th>\n",
       "      <th>金牌数</th>\n",
       "      <th>银牌数</th>\n",
       "      <th>铜牌数</th>\n",
       "      <th>总分</th>\n",
       "      <th>按总数排名</th>\n",
       "      <th>国家奥委会代码</th>\n",
       "      <th>比赛地点</th>\n",
       "      <th>金银牌总数</th>\n",
       "      <th>最多奖牌数量</th>\n",
       "      <th>金牌大于30</th>\n",
       "      <th>金铜牌总数</th>\n",
       "      <th>银铜牌总数</th>\n",
       "      <th>金牌占比</th>\n",
       "    </tr>\n",
       "    <tr>\n",
       "      <th>金牌排名</th>\n",
       "      <th></th>\n",
       "      <th></th>\n",
       "      <th></th>\n",
       "      <th></th>\n",
       "      <th></th>\n",
       "      <th></th>\n",
       "      <th></th>\n",
       "      <th></th>\n",
       "      <th></th>\n",
       "      <th></th>\n",
       "      <th></th>\n",
       "      <th></th>\n",
       "      <th></th>\n",
       "      <th></th>\n",
       "    </tr>\n",
       "  </thead>\n",
       "  <tbody>\n",
       "    <tr>\n",
       "      <th>2</th>\n",
       "      <td>中国</td>\n",
       "      <td>38</td>\n",
       "      <td>32</td>\n",
       "      <td>18</td>\n",
       "      <td>88</td>\n",
       "      <td>2</td>\n",
       "      <td>CHN</td>\n",
       "      <td>东京</td>\n",
       "      <td>70</td>\n",
       "      <td>38.0</td>\n",
       "      <td>是</td>\n",
       "      <td>56</td>\n",
       "      <td>50</td>\n",
       "      <td>0.111765</td>\n",
       "    </tr>\n",
       "    <tr>\n",
       "      <th>3</th>\n",
       "      <td>日本</td>\n",
       "      <td>27</td>\n",
       "      <td>14</td>\n",
       "      <td>17</td>\n",
       "      <td>58</td>\n",
       "      <td>5</td>\n",
       "      <td>JPN</td>\n",
       "      <td>东京</td>\n",
       "      <td>41</td>\n",
       "      <td>27.0</td>\n",
       "      <td>否</td>\n",
       "      <td>44</td>\n",
       "      <td>31</td>\n",
       "      <td>0.079412</td>\n",
       "    </tr>\n",
       "    <tr>\n",
       "      <th>4</th>\n",
       "      <td>英国</td>\n",
       "      <td>22</td>\n",
       "      <td>21</td>\n",
       "      <td>22</td>\n",
       "      <td>65</td>\n",
       "      <td>4</td>\n",
       "      <td>GBR</td>\n",
       "      <td>东京</td>\n",
       "      <td>43</td>\n",
       "      <td>22.0</td>\n",
       "      <td>否</td>\n",
       "      <td>44</td>\n",
       "      <td>43</td>\n",
       "      <td>0.064706</td>\n",
       "    </tr>\n",
       "    <tr>\n",
       "      <th>5</th>\n",
       "      <td>俄奥委会</td>\n",
       "      <td>20</td>\n",
       "      <td>28</td>\n",
       "      <td>23</td>\n",
       "      <td>71</td>\n",
       "      <td>3</td>\n",
       "      <td>ROC</td>\n",
       "      <td>东京</td>\n",
       "      <td>48</td>\n",
       "      <td>28.0</td>\n",
       "      <td>否</td>\n",
       "      <td>43</td>\n",
       "      <td>51</td>\n",
       "      <td>0.058824</td>\n",
       "    </tr>\n",
       "    <tr>\n",
       "      <th>6</th>\n",
       "      <td>澳大利亚</td>\n",
       "      <td>17</td>\n",
       "      <td>7</td>\n",
       "      <td>22</td>\n",
       "      <td>46</td>\n",
       "      <td>6</td>\n",
       "      <td>AUS</td>\n",
       "      <td>东京</td>\n",
       "      <td>24</td>\n",
       "      <td>22.0</td>\n",
       "      <td>否</td>\n",
       "      <td>39</td>\n",
       "      <td>29</td>\n",
       "      <td>0.050000</td>\n",
       "    </tr>\n",
       "    <tr>\n",
       "      <th>...</th>\n",
       "      <td>...</td>\n",
       "      <td>...</td>\n",
       "      <td>...</td>\n",
       "      <td>...</td>\n",
       "      <td>...</td>\n",
       "      <td>...</td>\n",
       "      <td>...</td>\n",
       "      <td>...</td>\n",
       "      <td>...</td>\n",
       "      <td>...</td>\n",
       "      <td>...</td>\n",
       "      <td>...</td>\n",
       "      <td>...</td>\n",
       "      <td>...</td>\n",
       "    </tr>\n",
       "    <tr>\n",
       "      <th>86</th>\n",
       "      <td>加纳</td>\n",
       "      <td>0</td>\n",
       "      <td>0</td>\n",
       "      <td>1</td>\n",
       "      <td>1</td>\n",
       "      <td>77</td>\n",
       "      <td>GHA</td>\n",
       "      <td>东京</td>\n",
       "      <td>0</td>\n",
       "      <td>1.0</td>\n",
       "      <td>否</td>\n",
       "      <td>1</td>\n",
       "      <td>1</td>\n",
       "      <td>0.000000</td>\n",
       "    </tr>\n",
       "    <tr>\n",
       "      <th>86</th>\n",
       "      <td>格林纳达</td>\n",
       "      <td>0</td>\n",
       "      <td>0</td>\n",
       "      <td>1</td>\n",
       "      <td>1</td>\n",
       "      <td>77</td>\n",
       "      <td>GRN</td>\n",
       "      <td>东京</td>\n",
       "      <td>0</td>\n",
       "      <td>1.0</td>\n",
       "      <td>否</td>\n",
       "      <td>1</td>\n",
       "      <td>1</td>\n",
       "      <td>0.000000</td>\n",
       "    </tr>\n",
       "    <tr>\n",
       "      <th>86</th>\n",
       "      <td>科威特</td>\n",
       "      <td>0</td>\n",
       "      <td>0</td>\n",
       "      <td>1</td>\n",
       "      <td>1</td>\n",
       "      <td>77</td>\n",
       "      <td>KUW</td>\n",
       "      <td>东京</td>\n",
       "      <td>0</td>\n",
       "      <td>1.0</td>\n",
       "      <td>否</td>\n",
       "      <td>1</td>\n",
       "      <td>1</td>\n",
       "      <td>0.000000</td>\n",
       "    </tr>\n",
       "    <tr>\n",
       "      <th>86</th>\n",
       "      <td>摩尔多瓦</td>\n",
       "      <td>0</td>\n",
       "      <td>0</td>\n",
       "      <td>1</td>\n",
       "      <td>1</td>\n",
       "      <td>77</td>\n",
       "      <td>MDA</td>\n",
       "      <td>东京</td>\n",
       "      <td>0</td>\n",
       "      <td>1.0</td>\n",
       "      <td>否</td>\n",
       "      <td>1</td>\n",
       "      <td>1</td>\n",
       "      <td>0.000000</td>\n",
       "    </tr>\n",
       "    <tr>\n",
       "      <th>86</th>\n",
       "      <td>叙利亚</td>\n",
       "      <td>0</td>\n",
       "      <td>0</td>\n",
       "      <td>1</td>\n",
       "      <td>1</td>\n",
       "      <td>77</td>\n",
       "      <td>SYR</td>\n",
       "      <td>东京</td>\n",
       "      <td>0</td>\n",
       "      <td>1.0</td>\n",
       "      <td>否</td>\n",
       "      <td>1</td>\n",
       "      <td>1</td>\n",
       "      <td>0.000000</td>\n",
       "    </tr>\n",
       "  </tbody>\n",
       "</table>\n",
       "<p>92 rows × 14 columns</p>\n",
       "</div>"
      ],
      "text/plain": [
       "     国家奥委会  金牌数  银牌数  铜牌数  总分  按总数排名 国家奥委会代码 比赛地点  金银牌总数  最多奖牌数量 金牌大于30  \\\n",
       "金牌排名                                                                      \n",
       "2       中国   38   32   18  88      2     CHN   东京     70    38.0      是   \n",
       "3       日本   27   14   17  58      5     JPN   东京     41    27.0      否   \n",
       "4       英国   22   21   22  65      4     GBR   东京     43    22.0      否   \n",
       "5     俄奥委会   20   28   23  71      3     ROC   东京     48    28.0      否   \n",
       "6     澳大利亚   17    7   22  46      6     AUS   东京     24    22.0      否   \n",
       "...    ...  ...  ...  ...  ..    ...     ...  ...    ...     ...    ...   \n",
       "86      加纳    0    0    1   1     77     GHA   东京      0     1.0      否   \n",
       "86    格林纳达    0    0    1   1     77     GRN   东京      0     1.0      否   \n",
       "86     科威特    0    0    1   1     77     KUW   东京      0     1.0      否   \n",
       "86    摩尔多瓦    0    0    1   1     77     MDA   东京      0     1.0      否   \n",
       "86     叙利亚    0    0    1   1     77     SYR   东京      0     1.0      否   \n",
       "\n",
       "      金铜牌总数  银铜牌总数      金牌占比  \n",
       "金牌排名                          \n",
       "2        56     50  0.111765  \n",
       "3        44     31  0.079412  \n",
       "4        44     43  0.064706  \n",
       "5        43     51  0.058824  \n",
       "6        39     29  0.050000  \n",
       "...     ...    ...       ...  \n",
       "86        1      1  0.000000  \n",
       "86        1      1  0.000000  \n",
       "86        1      1  0.000000  \n",
       "86        1      1  0.000000  \n",
       "86        1      1  0.000000  \n",
       "\n",
       "[92 rows x 14 columns]"
      ]
     },
     "execution_count": 17,
     "metadata": {},
     "output_type": "execute_result"
    }
   ],
   "source": [
    "df.drop(1)"
   ]
  },
  {
   "cell_type": "markdown",
   "metadata": {},
   "source": [
    "### 删除条件行"
   ]
  },
  {
   "cell_type": "code",
   "execution_count": 18,
   "metadata": {},
   "outputs": [
    {
     "data": {
      "text/html": [
       "<div>\n",
       "<style scoped>\n",
       "    .dataframe tbody tr th:only-of-type {\n",
       "        vertical-align: middle;\n",
       "    }\n",
       "\n",
       "    .dataframe tbody tr th {\n",
       "        vertical-align: top;\n",
       "    }\n",
       "\n",
       "    .dataframe thead th {\n",
       "        text-align: right;\n",
       "    }\n",
       "</style>\n",
       "<table border=\"1\" class=\"dataframe\">\n",
       "  <thead>\n",
       "    <tr style=\"text-align: right;\">\n",
       "      <th></th>\n",
       "      <th>国家奥委会</th>\n",
       "      <th>金牌数</th>\n",
       "      <th>银牌数</th>\n",
       "      <th>铜牌数</th>\n",
       "      <th>总分</th>\n",
       "      <th>按总数排名</th>\n",
       "      <th>国家奥委会代码</th>\n",
       "      <th>比赛地点</th>\n",
       "      <th>金银牌总数</th>\n",
       "      <th>最多奖牌数量</th>\n",
       "      <th>金牌大于30</th>\n",
       "      <th>金铜牌总数</th>\n",
       "      <th>银铜牌总数</th>\n",
       "      <th>金牌占比</th>\n",
       "    </tr>\n",
       "    <tr>\n",
       "      <th>金牌排名</th>\n",
       "      <th></th>\n",
       "      <th></th>\n",
       "      <th></th>\n",
       "      <th></th>\n",
       "      <th></th>\n",
       "      <th></th>\n",
       "      <th></th>\n",
       "      <th></th>\n",
       "      <th></th>\n",
       "      <th></th>\n",
       "      <th></th>\n",
       "      <th></th>\n",
       "      <th></th>\n",
       "      <th></th>\n",
       "    </tr>\n",
       "  </thead>\n",
       "  <tbody>\n",
       "    <tr>\n",
       "      <th>1</th>\n",
       "      <td>美国</td>\n",
       "      <td>39</td>\n",
       "      <td>41</td>\n",
       "      <td>33</td>\n",
       "      <td>113</td>\n",
       "      <td>1</td>\n",
       "      <td>USA</td>\n",
       "      <td>东京</td>\n",
       "      <td>80</td>\n",
       "      <td>41.0</td>\n",
       "      <td>是</td>\n",
       "      <td>72</td>\n",
       "      <td>74</td>\n",
       "      <td>0.114706</td>\n",
       "    </tr>\n",
       "    <tr>\n",
       "      <th>2</th>\n",
       "      <td>中国</td>\n",
       "      <td>38</td>\n",
       "      <td>32</td>\n",
       "      <td>18</td>\n",
       "      <td>88</td>\n",
       "      <td>2</td>\n",
       "      <td>CHN</td>\n",
       "      <td>东京</td>\n",
       "      <td>70</td>\n",
       "      <td>38.0</td>\n",
       "      <td>是</td>\n",
       "      <td>56</td>\n",
       "      <td>50</td>\n",
       "      <td>0.111765</td>\n",
       "    </tr>\n",
       "    <tr>\n",
       "      <th>3</th>\n",
       "      <td>日本</td>\n",
       "      <td>27</td>\n",
       "      <td>14</td>\n",
       "      <td>17</td>\n",
       "      <td>58</td>\n",
       "      <td>5</td>\n",
       "      <td>JPN</td>\n",
       "      <td>东京</td>\n",
       "      <td>41</td>\n",
       "      <td>27.0</td>\n",
       "      <td>否</td>\n",
       "      <td>44</td>\n",
       "      <td>31</td>\n",
       "      <td>0.079412</td>\n",
       "    </tr>\n",
       "    <tr>\n",
       "      <th>4</th>\n",
       "      <td>英国</td>\n",
       "      <td>22</td>\n",
       "      <td>21</td>\n",
       "      <td>22</td>\n",
       "      <td>65</td>\n",
       "      <td>4</td>\n",
       "      <td>GBR</td>\n",
       "      <td>东京</td>\n",
       "      <td>43</td>\n",
       "      <td>22.0</td>\n",
       "      <td>否</td>\n",
       "      <td>44</td>\n",
       "      <td>43</td>\n",
       "      <td>0.064706</td>\n",
       "    </tr>\n",
       "    <tr>\n",
       "      <th>5</th>\n",
       "      <td>俄奥委会</td>\n",
       "      <td>20</td>\n",
       "      <td>28</td>\n",
       "      <td>23</td>\n",
       "      <td>71</td>\n",
       "      <td>3</td>\n",
       "      <td>ROC</td>\n",
       "      <td>东京</td>\n",
       "      <td>48</td>\n",
       "      <td>28.0</td>\n",
       "      <td>否</td>\n",
       "      <td>43</td>\n",
       "      <td>51</td>\n",
       "      <td>0.058824</td>\n",
       "    </tr>\n",
       "  </tbody>\n",
       "</table>\n",
       "</div>"
      ],
      "text/plain": [
       "     国家奥委会  金牌数  银牌数  铜牌数   总分  按总数排名 国家奥委会代码 比赛地点  金银牌总数  最多奖牌数量 金牌大于30  \\\n",
       "金牌排名                                                                       \n",
       "1       美国   39   41   33  113      1     USA   东京     80    41.0      是   \n",
       "2       中国   38   32   18   88      2     CHN   东京     70    38.0      是   \n",
       "3       日本   27   14   17   58      5     JPN   东京     41    27.0      否   \n",
       "4       英国   22   21   22   65      4     GBR   东京     43    22.0      否   \n",
       "5     俄奥委会   20   28   23   71      3     ROC   东京     48    28.0      否   \n",
       "\n",
       "      金铜牌总数  银铜牌总数      金牌占比  \n",
       "金牌排名                          \n",
       "1        72     74  0.114706  \n",
       "2        56     50  0.111765  \n",
       "3        44     31  0.079412  \n",
       "4        44     43  0.064706  \n",
       "5        43     51  0.058824  "
      ]
     },
     "execution_count": 18,
     "metadata": {},
     "output_type": "execute_result"
    }
   ],
   "source": [
    "df.drop(df[df.金牌数<20].index)"
   ]
  },
  {
   "cell_type": "markdown",
   "metadata": {},
   "source": [
    "### 删除列\n",
    "\n",
    "\n",
    "删除刚刚新增的 比赛地点 列"
   ]
  },
  {
   "cell_type": "code",
   "execution_count": 19,
   "metadata": {},
   "outputs": [],
   "source": [
    "df.drop(columns=['比赛地点'],inplace=True)"
   ]
  },
  {
   "cell_type": "markdown",
   "metadata": {},
   "source": [
    "### 删除列（按列号）\n",
    "\n",
    "删除 `df` 的 `7、8、9、10` 列"
   ]
  },
  {
   "cell_type": "code",
   "execution_count": 20,
   "metadata": {},
   "outputs": [],
   "source": [
    "df.drop(df.columns[[7,8,9,10]], axis=1,inplace=True)"
   ]
  }
 ],
 "metadata": {
  "celltoolbar": "Tags",
  "kernelspec": {
   "display_name": "Python 3",
   "language": "python",
   "name": "python3"
  },
  "language_info": {
   "codemirror_mode": {
    "name": "ipython",
    "version": 3
   },
   "file_extension": ".py",
   "mimetype": "text/x-python",
   "name": "python",
   "nbconvert_exporter": "python",
   "pygments_lexer": "ipython3",
   "version": "3.8.5"
  },
  "toc": {
   "base_numbering": 1,
   "nav_menu": {},
   "number_sections": false,
   "sideBar": true,
   "skip_h1_title": false,
   "title_cell": "Table of Contents",
   "title_sidebar": "Contents",
   "toc_cell": false,
   "toc_position": {
    "height": "calc(100% - 180px)",
    "left": "10px",
    "top": "150px",
    "width": "367px"
   },
   "toc_section_display": true,
   "toc_window_display": true
  }
 },
 "nbformat": 4,
 "nbformat_minor": 4
}