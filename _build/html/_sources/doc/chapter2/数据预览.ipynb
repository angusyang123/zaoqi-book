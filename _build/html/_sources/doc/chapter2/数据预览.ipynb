{
 "cells": [
  {
   "cell_type": "markdown",
   "metadata": {},
   "source": [
    "# 数据预览"
   ]
  },
  {
   "cell_type": "markdown",
   "metadata": {},
   "source": [
    "```{admonition} 在线刷题\n",
    ":class: seealso\n",
    "\n",
    "检查 or 强化 `Pandas` 数据分析操作？<a href=\"https://www.heywhale.com/mw/project/6146c0318447b8001769ff20\" target=\"_blank\">👉在线体验「Pandas进阶修炼300题」</a>\n",
    "```"
   ]
  },
  {
   "cell_type": "markdown",
   "metadata": {},
   "source": [
    "```{note} \n",
    "本页面代码可以[在线编辑、执行](../指引/在线执行.md)！\n",
    "```"
   ]
  },
  {
   "cell_type": "markdown",
   "metadata": {},
   "source": [
    "## 本页数据说明\n",
    "\n",
    "为了更好的介绍相关操作，本页面使用 **豆瓣电影TOP250** 数据进行展开，你应该对数据**字段、数值、类型**等相关信息做一个大致了解！"
   ]
  },
  {
   "cell_type": "code",
   "execution_count": 1,
   "metadata": {
    "tags": [
     "thebe-init",
     "hide-input"
    ]
   },
   "outputs": [
    {
     "data": {
      "text/html": [
       "<div>\n",
       "<style scoped>\n",
       "    .dataframe tbody tr th:only-of-type {\n",
       "        vertical-align: middle;\n",
       "    }\n",
       "\n",
       "    .dataframe tbody tr th {\n",
       "        vertical-align: top;\n",
       "    }\n",
       "\n",
       "    .dataframe thead th {\n",
       "        text-align: right;\n",
       "    }\n",
       "</style>\n",
       "<table border=\"1\" class=\"dataframe\">\n",
       "  <thead>\n",
       "    <tr style=\"text-align: right;\">\n",
       "      <th></th>\n",
       "      <th>片名</th>\n",
       "      <th>上映年份</th>\n",
       "      <th>评分</th>\n",
       "      <th>评价人数</th>\n",
       "      <th>导演</th>\n",
       "      <th>编剧</th>\n",
       "      <th>主演</th>\n",
       "      <th>类型</th>\n",
       "      <th>国家/地区</th>\n",
       "      <th>语言</th>\n",
       "      <th>时长(分钟)</th>\n",
       "    </tr>\n",
       "  </thead>\n",
       "  <tbody>\n",
       "    <tr>\n",
       "      <th>0</th>\n",
       "      <td>肖申克的救赎</td>\n",
       "      <td>1994</td>\n",
       "      <td>9.7</td>\n",
       "      <td>2317937.0</td>\n",
       "      <td>弗兰克·德拉邦特</td>\n",
       "      <td>弗兰克·德拉邦特 / 斯蒂芬·金</td>\n",
       "      <td>蒂姆·罗宾斯 / 摩根·弗里曼 / 鲍勃·冈顿 / 威廉姆·赛德勒 / 克兰西·布朗 / 吉...</td>\n",
       "      <td>剧情 / 犯罪</td>\n",
       "      <td>美国</td>\n",
       "      <td>英语</td>\n",
       "      <td>142.0</td>\n",
       "    </tr>\n",
       "    <tr>\n",
       "      <th>1</th>\n",
       "      <td>霸王别姬</td>\n",
       "      <td>1993</td>\n",
       "      <td>9.6</td>\n",
       "      <td>1720638.0</td>\n",
       "      <td>陈凯歌</td>\n",
       "      <td>芦苇 / 李碧华</td>\n",
       "      <td>张国荣 / 张丰毅 / 巩俐 / 葛优 / 英达 / 蒋雯丽 / 吴大维 / 吕齐 / 雷汉...</td>\n",
       "      <td>剧情 / 爱情 / 同性</td>\n",
       "      <td>中国</td>\n",
       "      <td>汉语普通话</td>\n",
       "      <td>171.0</td>\n",
       "    </tr>\n",
       "    <tr>\n",
       "      <th>2</th>\n",
       "      <td>阿甘正传</td>\n",
       "      <td>1994</td>\n",
       "      <td>9.5</td>\n",
       "      <td>1743966.0</td>\n",
       "      <td>罗伯特·泽米吉斯</td>\n",
       "      <td>艾瑞克·罗斯 / 温斯顿·格鲁姆</td>\n",
       "      <td>汤姆·汉克斯 / 罗宾·怀特 / 加里·西尼斯 / 麦凯尔泰·威廉逊 / 莎莉·菲尔德 / ...</td>\n",
       "      <td>剧情 / 爱情</td>\n",
       "      <td>美国</td>\n",
       "      <td>英语</td>\n",
       "      <td>142.0</td>\n",
       "    </tr>\n",
       "    <tr>\n",
       "      <th>3</th>\n",
       "      <td>这个杀手不太冷</td>\n",
       "      <td>1994</td>\n",
       "      <td>9.4</td>\n",
       "      <td>1922740.0</td>\n",
       "      <td>吕克·贝松</td>\n",
       "      <td>吕克·贝松</td>\n",
       "      <td>让·雷诺 / 娜塔莉·波特曼 / 加里·奥德曼 / 丹尼·爱罗 / 彼得·阿佩尔 / 迈克尔...</td>\n",
       "      <td>剧情 / 动作 / 犯罪</td>\n",
       "      <td>法国</td>\n",
       "      <td>英语</td>\n",
       "      <td>110.0</td>\n",
       "    </tr>\n",
       "    <tr>\n",
       "      <th>4</th>\n",
       "      <td>泰坦尼克号</td>\n",
       "      <td>1997</td>\n",
       "      <td>9.4</td>\n",
       "      <td>1706127.0</td>\n",
       "      <td>詹姆斯·卡梅隆</td>\n",
       "      <td>詹姆斯·卡梅隆</td>\n",
       "      <td>莱昂纳多·迪卡普里奥 / 凯特·温丝莱特 / 比利·赞恩 / 凯西·贝茨 / 弗兰西丝·费舍...</td>\n",
       "      <td>剧情 / 爱情 / 灾难</td>\n",
       "      <td>美国</td>\n",
       "      <td>英语</td>\n",
       "      <td>194.0</td>\n",
       "    </tr>\n",
       "  </tbody>\n",
       "</table>\n",
       "</div>"
      ],
      "text/plain": [
       "        片名  上映年份   评分       评价人数        导演                编剧  \\\n",
       "0   肖申克的救赎  1994  9.7  2317937.0  弗兰克·德拉邦特  弗兰克·德拉邦特 / 斯蒂芬·金   \n",
       "1     霸王别姬  1993  9.6  1720638.0       陈凯歌          芦苇 / 李碧华   \n",
       "2     阿甘正传  1994  9.5  1743966.0  罗伯特·泽米吉斯  艾瑞克·罗斯 / 温斯顿·格鲁姆   \n",
       "3  这个杀手不太冷  1994  9.4  1922740.0     吕克·贝松             吕克·贝松   \n",
       "4    泰坦尼克号  1997  9.4  1706127.0   詹姆斯·卡梅隆           詹姆斯·卡梅隆   \n",
       "\n",
       "                                                  主演            类型 国家/地区  \\\n",
       "0  蒂姆·罗宾斯 / 摩根·弗里曼 / 鲍勃·冈顿 / 威廉姆·赛德勒 / 克兰西·布朗 / 吉...       剧情 / 犯罪    美国   \n",
       "1  张国荣 / 张丰毅 / 巩俐 / 葛优 / 英达 / 蒋雯丽 / 吴大维 / 吕齐 / 雷汉...  剧情 / 爱情 / 同性    中国   \n",
       "2  汤姆·汉克斯 / 罗宾·怀特 / 加里·西尼斯 / 麦凯尔泰·威廉逊 / 莎莉·菲尔德 / ...       剧情 / 爱情    美国   \n",
       "3  让·雷诺 / 娜塔莉·波特曼 / 加里·奥德曼 / 丹尼·爱罗 / 彼得·阿佩尔 / 迈克尔...  剧情 / 动作 / 犯罪    法国   \n",
       "4  莱昂纳多·迪卡普里奥 / 凯特·温丝莱特 / 比利·赞恩 / 凯西·贝茨 / 弗兰西丝·费舍...  剧情 / 爱情 / 灾难    美国   \n",
       "\n",
       "      语言  时长(分钟)  \n",
       "0     英语   142.0  \n",
       "1  汉语普通话   171.0  \n",
       "2     英语   142.0  \n",
       "3    英语    110.0  \n",
       "4    英语    194.0  "
      ]
     },
     "execution_count": 1,
     "metadata": {},
     "output_type": "execute_result"
    }
   ],
   "source": [
    "import pandas as pd\n",
    "pd.set_option('display.max_colwidth',10)\n",
    "df = pd.read_excel(\"TOP250.xlsx\")\n",
    "df.head()"
   ]
  },
  {
   "cell_type": "markdown",
   "metadata": {},
   "source": [
    "## 数据维度\n",
    "\n",
    "先看看数据多少行，多少列，对接下来的处理量心里有个数"
   ]
  },
  {
   "cell_type": "code",
   "execution_count": null,
   "metadata": {},
   "outputs": [],
   "source": [
    "df.shape"
   ]
  },
  {
   "cell_type": "markdown",
   "metadata": {},
   "source": [
    "## 数据抽样\n",
    "\n",
    "也就是随机查看一个样本，大致了解下数据"
   ]
  },
  {
   "cell_type": "code",
   "execution_count": 2,
   "metadata": {},
   "outputs": [
    {
     "data": {
      "text/html": [
       "<div>\n",
       "<style scoped>\n",
       "    .dataframe tbody tr th:only-of-type {\n",
       "        vertical-align: middle;\n",
       "    }\n",
       "\n",
       "    .dataframe tbody tr th {\n",
       "        vertical-align: top;\n",
       "    }\n",
       "\n",
       "    .dataframe thead th {\n",
       "        text-align: right;\n",
       "    }\n",
       "</style>\n",
       "<table border=\"1\" class=\"dataframe\">\n",
       "  <thead>\n",
       "    <tr style=\"text-align: right;\">\n",
       "      <th></th>\n",
       "      <th>片名</th>\n",
       "      <th>上映年份</th>\n",
       "      <th>评分</th>\n",
       "      <th>评价人数</th>\n",
       "      <th>导演</th>\n",
       "      <th>编剧</th>\n",
       "      <th>主演</th>\n",
       "      <th>类型</th>\n",
       "      <th>国家/地区</th>\n",
       "      <th>语言</th>\n",
       "      <th>时长(分钟)</th>\n",
       "    </tr>\n",
       "  </thead>\n",
       "  <tbody>\n",
       "    <tr>\n",
       "      <th>169</th>\n",
       "      <td>疯狂原始人</td>\n",
       "      <td>2013</td>\n",
       "      <td>8.7</td>\n",
       "      <td>701370.0</td>\n",
       "      <td>柯克·德·米科 / 克里斯·桑德斯</td>\n",
       "      <td>克里斯·桑德斯 / 柯克·德·米科 / 约翰·克立斯</td>\n",
       "      <td>尼古拉斯·凯奇 / 艾玛·斯通 / 瑞恩·雷诺兹 / 凯瑟琳·基纳 / 克萝丽丝·利奇曼 /...</td>\n",
       "      <td>喜剧 / 动画 / 冒险</td>\n",
       "      <td>美国</td>\n",
       "      <td>英语</td>\n",
       "      <td>98.0</td>\n",
       "    </tr>\n",
       "  </tbody>\n",
       "</table>\n",
       "</div>"
      ],
      "text/plain": [
       "        片名  上映年份   评分      评价人数                 导演  \\\n",
       "169  疯狂原始人  2013  8.7  701370.0  柯克·德·米科 / 克里斯·桑德斯   \n",
       "\n",
       "                             编剧  \\\n",
       "169  克里斯·桑德斯 / 柯克·德·米科 / 约翰·克立斯   \n",
       "\n",
       "                                                    主演            类型 国家/地区  \\\n",
       "169  尼古拉斯·凯奇 / 艾玛·斯通 / 瑞恩·雷诺兹 / 凯瑟琳·基纳 / 克萝丽丝·利奇曼 /...  喜剧 / 动画 / 冒险    美国   \n",
       "\n",
       "     语言  时长(分钟)  \n",
       "169  英语    98.0  "
      ]
     },
     "execution_count": 2,
     "metadata": {},
     "output_type": "execute_result"
    }
   ],
   "source": [
    "df.sample()\n",
    "\n",
    "# df.sample(n) #抽n个样本"
   ]
  },
  {
   "cell_type": "markdown",
   "metadata": {},
   "source": [
    "## 查看数据前 3 行\n",
    "\n",
    "检查头尾数据，更详细的看一下数据"
   ]
  },
  {
   "cell_type": "code",
   "execution_count": null,
   "metadata": {},
   "outputs": [],
   "source": [
    "df.head(3)\n",
    "# df.tail() # 查看后5行"
   ]
  },
  {
   "cell_type": "markdown",
   "metadata": {},
   "source": [
    "## 查看数据基本信息\n",
    "\n",
    "看看数据类型，有无缺失值什么的"
   ]
  },
  {
   "cell_type": "code",
   "execution_count": null,
   "metadata": {},
   "outputs": [],
   "source": [
    "df.info()"
   ]
  },
  {
   "cell_type": "markdown",
   "metadata": {},
   "source": [
    "## 查看数值数据统计信息\n",
    "\n",
    "查看 **数值型** 列的统计信息，计数、均值什么的"
   ]
  },
  {
   "cell_type": "code",
   "execution_count": null,
   "metadata": {},
   "outputs": [],
   "source": [
    "df.describe().round(2).T"
   ]
  },
  {
   "cell_type": "markdown",
   "metadata": {},
   "source": [
    "## 查看离散数据统计信息\n",
    "\n",
    "查看 **离散型** 列的统计信息，计数、频率什么"
   ]
  },
  {
   "cell_type": "code",
   "execution_count": null,
   "metadata": {},
   "outputs": [],
   "source": [
    "df.describe(include=['O'])"
   ]
  }
 ],
 "metadata": {
  "celltoolbar": "Tags",
  "kernelspec": {
   "display_name": "Python 3",
   "language": "python",
   "name": "python3"
  },
  "language_info": {
   "codemirror_mode": {
    "name": "ipython",
    "version": 3
   },
   "file_extension": ".py",
   "mimetype": "text/x-python",
   "name": "python",
   "nbconvert_exporter": "python",
   "pygments_lexer": "ipython3",
   "version": "3.8.5"
  },
  "toc": {
   "base_numbering": 1,
   "nav_menu": {},
   "number_sections": false,
   "sideBar": true,
   "skip_h1_title": false,
   "title_cell": "Table of Contents",
   "title_sidebar": "Contents",
   "toc_cell": false,
   "toc_position": {
    "height": "calc(100% - 180px)",
    "left": "10px",
    "top": "150px",
    "width": "384px"
   },
   "toc_section_display": true,
   "toc_window_display": true
  }
 },
 "nbformat": 4,
 "nbformat_minor": 4
}
